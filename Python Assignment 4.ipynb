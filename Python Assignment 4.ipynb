{
 "cells": [
  {
   "cell_type": "markdown",
   "metadata": {},
   "source": [
    "1.1 Write a Python Program(with class concepts) to find the area of the triangle using the below\n",
    "formula.\n",
    "area = (s*(s-a)*(s-b)*(s-c)) ** 0.5\n",
    "Function to take the length of the sides of triangle from user should be defined in the parent\n",
    "class and function to calculate the area should be defined in subclass."
   ]
  },
  {
   "cell_type": "code",
   "execution_count": 5,
   "metadata": {},
   "outputs": [
    {
     "name": "stdout",
     "output_type": "stream",
     "text": [
      "Enter the three sides of triangle:5 6 7\n",
      "Area is 14.70\n",
      "14.696938456699069\n"
     ]
    }
   ],
   "source": [
    "class Triangle:\n",
    "    def __init__(self):\n",
    "        lst = list(map(int, input(\"Enter the three sides of triangle:\").split()))\n",
    "        self.a = lst[0]\n",
    "        self.b = lst[1]\n",
    "        self.c = lst[2]\n",
    "\n",
    "class Area(Triangle):\n",
    "    def __init__(self, *args):\n",
    "        super(Area, self).__init__(*args)\n",
    "        \n",
    "    def CalculateArea(self):\n",
    "        s = (self.a+self.b+self.c)/2\n",
    "        area = (s * (s - self.a) * (s - self.b) * (s -self.c)) ** 0.5\n",
    "        print(\"Area is %0.2f\" %area)\n",
    "        return area\n",
    "\n",
    "test = Area()\n",
    "print(test.CalculateArea())"
   ]
  },
  {
   "cell_type": "markdown",
   "metadata": {},
   "source": [
    "1.2 Write a function filter_long_words() that takes a list of words and an integer n and returns\n",
    "the list of words that are longer than n."
   ]
  },
  {
   "cell_type": "code",
   "execution_count": 2,
   "metadata": {},
   "outputs": [
    {
     "name": "stdout",
     "output_type": "stream",
     "text": [
      "['Nilesh', 'Ineuron', 'LinkedIN']\n"
     ]
    }
   ],
   "source": [
    "def long_words(words, n):\n",
    "    if not all(type(i) == str for i in words):\n",
    "        print(\"Invalid input. All the input in list are not strings\")\n",
    "        return None\n",
    "    result = [lst for lst in words if len(lst) > n]\n",
    "    return result\n",
    "\n",
    "lst = [\"Bye\", \"Nilesh\", \"Ineuron\", \"ML\", \"LinkedIN\"]\n",
    "n = 5\n",
    "print(long_words(lst,n))"
   ]
  },
  {
   "cell_type": "markdown",
   "metadata": {},
   "source": [
    "2.1 Write a Python program using function concept that maps list of words into a list of integers\n",
    "representing the lengths of the corresponding words.\n",
    "Hint: If a list [ ab,cde,erty] is passed on to the python function output should come as [2,3,4]\n",
    "Here 2,3 and 4 are the lengths of the words in the list."
   ]
  },
  {
   "cell_type": "code",
   "execution_count": 38,
   "metadata": {},
   "outputs": [
    {
     "name": "stdout",
     "output_type": "stream",
     "text": [
      "[3, 6, 7, 2, 8]\n"
     ]
    }
   ],
   "source": [
    " def len_to_words(words):\n",
    "    if not all(type(i) == str for i in words):\n",
    "        print(\"Invalid input. All the input in list are not strings\")\n",
    "        return None\n",
    "    \n",
    "    return [len(j) for j in words]\n",
    "\n",
    "print(len_to_words(lst))"
   ]
  },
  {
   "cell_type": "markdown",
   "metadata": {},
   "source": [
    "2.2 Write a Python function which takes a character (i.e. a string of length 1) and returns True if\n",
    "it is a vowel, False otherwise."
   ]
  },
  {
   "cell_type": "code",
   "execution_count": 41,
   "metadata": {},
   "outputs": [
    {
     "name": "stdout",
     "output_type": "stream",
     "text": [
      "False\n",
      "True\n"
     ]
    }
   ],
   "source": [
    "def vowel(i):\n",
    "    vowels = ['a','e','i','o','u']\n",
    "    if type(i) == str and len(i) == 1 and i in vowels:\n",
    "        return True\n",
    "    else:\n",
    "        return False\n",
    "print(vowel('Ineuron'))\n",
    "print(vowel('e'))"
   ]
  },
  {
   "cell_type": "code",
   "execution_count": null,
   "metadata": {},
   "outputs": [],
   "source": []
  }
 ],
 "metadata": {
  "kernelspec": {
   "display_name": "Python 3",
   "language": "python",
   "name": "python3"
  },
  "language_info": {
   "codemirror_mode": {
    "name": "ipython",
    "version": 3
   },
   "file_extension": ".py",
   "mimetype": "text/x-python",
   "name": "python",
   "nbconvert_exporter": "python",
   "pygments_lexer": "ipython3",
   "version": "3.6.4"
  }
 },
 "nbformat": 4,
 "nbformat_minor": 2
}
